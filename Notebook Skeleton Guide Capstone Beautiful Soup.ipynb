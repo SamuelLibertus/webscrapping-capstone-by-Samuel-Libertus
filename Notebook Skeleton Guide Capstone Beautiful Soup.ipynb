{
 "cells": [
  {
   "cell_type": "markdown",
   "metadata": {},
   "source": [
    "# *Capstone Webscrapping using BeautifulSoup by Samuel Libertus*\n",
    "\n",
    "*This notebook contains guidances & tasks on the data processing for the application*\n",
    "\n",
    "## *Task*\n",
    "\n",
    "2. (Medium) Data kurs US Dollar ke rupiah dari `https://www.exchange-rates.org/history/IDR/USD/T`\n",
    "\n",
    "    * Dari halaman tersebut carilah `harga harian` dan `tanggal`\n",
    "    * Bualah plot pergerakan kurs USD \n",
    "    \n",
    "## *Background*\n",
    "\n",
    "- Melakukan *scrapping data* `harga harian` dan `tanggal` yang ada di Data harga harian kurs US Dollar ke rupiah dari `https://www.exchange-rates.org/history/IDR/USD/T`\n",
    "- Melakukan *data wrangling* dan *vizualization* menggunakan plot pada data pergerakan kurs USD yang telah berhasil di-*scrapping* \n",
    "\n",
    "## *Requesting the Data and Creating a BeautifulSoup*\n",
    "\n",
    "*Let's begin with requesting the web from the site with `get` method.*"
   ]
  },
  {
   "cell_type": "code",
   "execution_count": 47,
   "metadata": {
    "ExecuteTime": {
     "end_time": "2020-01-13T05:12:23.275508Z",
     "start_time": "2020-01-13T05:12:20.009898Z"
    }
   },
   "outputs": [],
   "source": [
    "import requests\n",
    "\n",
    "url_get = requests.get('https://www.exchange-rates.org/history/IDR/USD/T')"
   ]
  },
  {
   "cell_type": "markdown",
   "metadata": {},
   "source": [
    "To visualize what exactly you get from the `request.get`, we can use .content so ee what we exactly get, in here i slice it so it won't make our screen full of the html we get from the page. You can delete the slicing if you want to see what we fully get."
   ]
  },
  {
   "cell_type": "code",
   "execution_count": 48,
   "metadata": {
    "ExecuteTime": {
     "end_time": "2020-01-13T05:12:23.290648Z",
     "start_time": "2020-01-13T05:12:23.277650Z"
    }
   },
   "outputs": [
    {
     "data": {
      "text/plain": [
       "b'!DOCTYPE html>\\r\\n<!--[if lt IE 9]>\\r\\n<html class=\"no-js ie8 oldie\" lang=\"en\" xml:lang=\\'en\\'>\\r\\n<![endif]-->\\r\\n<!--[if gt IE 8]><!--><html class=\"no-js\" lang=\"en\" xml:lang=\\'en\\'><!--<![endif]-->\\r\\n<head>\\r\\n<title>Indonesian Rupiah Exchange Rate - US Dollar - Historical Exchange Rates</title>\\r\\n<meta http-equiv=\"X-UA-Compatible\" content=\"IE=edge\">\\r\\n<meta name=\"viewport\" content=\"width=device-width, initial-scale=1, maximum-scale=5\">\\r\\n<meta charset=\"utf-8\" /><meta http-equiv=\"Content-Type\" content=\"text/ht'"
      ]
     },
     "execution_count": 48,
     "metadata": {},
     "output_type": "execute_result"
    }
   ],
   "source": [
    "url_get.content[1:500]"
   ]
  },
  {
   "cell_type": "markdown",
   "metadata": {},
   "source": [
    "As we can see we get a very unstructured and complex html, which actually contains the codes needed to show the webpages on your web browser. But we as human still confused what and where we can use that piece of code, so here where we use the beautifulsoup. Beautiful soup class will result a beautifulsoup object. Beautiful Soup transforms a complex HTML document into a complex tree of Python objects. \n",
    "\n",
    "Let's make Beautiful soup object and feel free to explore the object here."
   ]
  },
  {
   "cell_type": "code",
   "execution_count": 49,
   "metadata": {
    "ExecuteTime": {
     "end_time": "2020-01-13T05:12:23.808122Z",
     "start_time": "2020-01-13T05:12:23.292610Z"
    }
   },
   "outputs": [],
   "source": [
    "from bs4 import BeautifulSoup \n",
    "\n",
    "soup = BeautifulSoup(url_get.content,\"html.parser\")"
   ]
  },
  {
   "cell_type": "markdown",
   "metadata": {},
   "source": [
    "## *Finding the right key to scrap the data & Extracting the right information*"
   ]
  },
  {
   "cell_type": "markdown",
   "metadata": {},
   "source": [
    "Find the key and put the key into the `.find()` Put all the exploring the right key at this cell."
   ]
  },
  {
   "cell_type": "markdown",
   "metadata": {},
   "source": [
    "### 1. Menggunakan *inspect* pada *website* yang dituju, temukan *code* dan letak tabel yang ingin di-*scrapping* pada html *website*"
   ]
  },
  {
   "cell_type": "code",
   "execution_count": 50,
   "metadata": {
    "ExecuteTime": {
     "end_time": "2020-01-13T05:12:23.878904Z",
     "start_time": "2020-01-13T05:12:23.854974Z"
    }
   },
   "outputs": [
    {
     "name": "stdout",
     "output_type": "stream",
     "text": [
      "table class=\"table table-striped table-hover table-hover-solid-row table-simple history-data\">\n",
      " <tbody>\n",
      "  <tr>\n",
      "   <td>\n",
      "    7/8/2022\n",
      "   </td>\n",
      "   <td>\n",
      "    Friday\n",
      "   </td>\n",
      "   <td>\n",
      "    <a href=\"/Rate/USD/IDR/7-8-2022\">\n",
      "     14,976.95000\n",
      "    </a>\n",
      "    IDR\n",
      "   </td>\n",
      "   <td class=\"text-narrow-screen-hidden\">\n",
      "    <a href=\"/Rate/USD/IDR/7-8-2022\">\n",
      "     USD IDR rate for 7/8/2022\n",
      "    </a>\n",
      "   </td>\n",
      "  </tr>\n",
      "  <tr>\n",
      "   <td>\n",
      "    7/7/2022\n",
      "   </td>\n",
      "   <td>\n",
      "    Thursday\n",
      "   </td>\n",
      "   <td>\n",
      "    <a href=\"/Rate/USD/IDR/7\n"
     ]
    }
   ],
   "source": [
    "table = soup.find('table', attrs={'class':'table table-striped table-hover table-hover-solid-row table-simple history-data'})\n",
    "\n",
    "# Menampilkan 500 line pertama\n",
    "print(table.prettify()[1:500])"
   ]
  },
  {
   "cell_type": "markdown",
   "metadata": {},
   "source": [
    "### 2. Mencari data yang diinginkan pada tabel"
   ]
  },
  {
   "cell_type": "code",
   "execution_count": 51,
   "metadata": {},
   "outputs": [
    {
     "name": "stdout",
     "output_type": "stream",
     "text": [
      "7/8/2022\n",
      "Friday\n",
      "14,976.95000 IDR\n",
      "USD IDR rate for 7/8/2022\n",
      "7/7/2022\n"
     ]
    }
   ],
   "source": [
    "for i in range(0, 5):    \n",
    "    #scrapping process\n",
    "    td = table.find_all('td')[i].text\n",
    "    print(td)"
   ]
  },
  {
   "cell_type": "markdown",
   "metadata": {},
   "source": [
    "a. Terlihat bahwa data tanggal yang diinginkan terdapat pada setiap pengulangan ke-4 data 'td'"
   ]
  },
  {
   "cell_type": "code",
   "execution_count": 52,
   "metadata": {},
   "outputs": [
    {
     "name": "stdout",
     "output_type": "stream",
     "text": [
      "14,976.95000\n",
      "USD IDR rate for 7/8/2022\n",
      "14,964.65000\n",
      "USD IDR rate for 7/7/2022\n",
      "14,996.82520\n"
     ]
    }
   ],
   "source": [
    "for i in range(0, 5):\n",
    "\n",
    "    #scrapping process\n",
    "    a = table.find_all('a')[i].text\n",
    "    print(a)"
   ]
  },
  {
   "cell_type": "markdown",
   "metadata": {},
   "source": [
    "b. Terlihat bahwa data harga harian  yang diinginkan terdapat pada setiap pengulangan ke-2 data 'a'"
   ]
  },
  {
   "cell_type": "code",
   "execution_count": 53,
   "metadata": {},
   "outputs": [
    {
     "name": "stdout",
     "output_type": "stream",
     "text": [
      "row_length_td:  520\n",
      "row_length_a :  260\n"
     ]
    }
   ],
   "source": [
    "td = table.find_all('td')\n",
    "row_length = len(td)\n",
    "print(\"row_length_td: \", row_length)\n",
    "\n",
    "a = table.find_all('a')\n",
    "row_length = len(a)\n",
    "print(\"row_length_a : \", row_length)"
   ]
  },
  {
   "cell_type": "markdown",
   "metadata": {},
   "source": [
    "c. Selain itu, terlihat juga bahwa banyak data 'a', persis 2 kali lipat dari banyak data 'td' ('td' = 2*'a')."
   ]
  },
  {
   "cell_type": "markdown",
   "metadata": {},
   "source": [
    "### 3. *Scrapping* semua data yang diinginkan menggunakan *looping* dan menyimpannya pada sebuah *list* kosong"
   ]
  },
  {
   "cell_type": "markdown",
   "metadata": {},
   "source": [
    "Oleh karena itu, dari poin 2c, untuk *looping scrapping* data yang diinginkan, dapat menggunakan row_length dari data 'a' sebagai i sehingga *indexing* untuk data 'a' tetap menggunakan i sedangkan untuk data 'td' menjadi 2*i.\n",
    "\n",
    "Selain itu, dari poin 2a dan 2b, \"looping\" yang akan digunakan juga akan menggunakan step = 2."
   ]
  },
  {
   "cell_type": "code",
   "execution_count": 54,
   "metadata": {
    "ExecuteTime": {
     "end_time": "2020-01-13T05:12:24.008256Z",
     "start_time": "2020-01-13T05:12:23.980358Z"
    }
   },
   "outputs": [
    {
     "data": {
      "text/plain": [
       "[('1/10/2022', '14,290.15000'),\n",
       " ('1/11/2022', '14,284.46501'),\n",
       " ('1/12/2022', '14,298.95000'),\n",
       " ('1/13/2022', '14,309.00000'),\n",
       " ('1/14/2022', '14,314.55000')]"
      ]
     },
     "execution_count": 54,
     "metadata": {},
     "output_type": "execute_result"
    }
   ],
   "source": [
    "harga = table.find_all('a')\n",
    "row_length = len(harga)\n",
    "row_length\n",
    "\n",
    "# Membuat list kosong\n",
    "temp = []\n",
    "\n",
    "for i in range(0, row_length, 2):\n",
    "\n",
    "    #scrapping process untuk harga harian\n",
    "    harga = table.find_all('a')[i].text\n",
    "    harga = harga.strip()\n",
    "\n",
    "    #scrapping process untuk tanggal\n",
    "    tanggal = table.find_all('td')[2*i].text\n",
    "    tanggal = tanggal.strip()\n",
    "    \n",
    "    # Menambahkan data yang telah di-scrapping ke list\n",
    "    temp.append((tanggal, harga))\n",
    "\n",
    "# Membalikan urutan data yang ada\n",
    "temp = temp[::-1] \n",
    "\n",
    "# Menampilkan 5 data pertama\n",
    "temp[:5]"
   ]
  },
  {
   "cell_type": "markdown",
   "metadata": {},
   "source": [
    "## *Creating data frame & Data wrangling*"
   ]
  },
  {
   "cell_type": "markdown",
   "metadata": {},
   "source": [
    "### 4. *Put the array into dataframe*"
   ]
  },
  {
   "cell_type": "code",
   "execution_count": 55,
   "metadata": {
    "ExecuteTime": {
     "end_time": "2020-01-13T05:12:41.517372Z",
     "start_time": "2020-01-13T05:12:29.130015Z"
    }
   },
   "outputs": [
    {
     "data": {
      "text/html": [
       "<div>\n",
       "<style scoped>\n",
       "    .dataframe tbody tr th:only-of-type {\n",
       "        vertical-align: middle;\n",
       "    }\n",
       "\n",
       "    .dataframe tbody tr th {\n",
       "        vertical-align: top;\n",
       "    }\n",
       "\n",
       "    .dataframe thead th {\n",
       "        text-align: right;\n",
       "    }\n",
       "</style>\n",
       "<table border=\"1\" class=\"dataframe\">\n",
       "  <thead>\n",
       "    <tr style=\"text-align: right;\">\n",
       "      <th></th>\n",
       "      <th>tanggal</th>\n",
       "      <th>harga_harian</th>\n",
       "    </tr>\n",
       "  </thead>\n",
       "  <tbody>\n",
       "    <tr>\n",
       "      <th>0</th>\n",
       "      <td>1/10/2022</td>\n",
       "      <td>14,290.15000</td>\n",
       "    </tr>\n",
       "    <tr>\n",
       "      <th>1</th>\n",
       "      <td>1/11/2022</td>\n",
       "      <td>14,284.46501</td>\n",
       "    </tr>\n",
       "    <tr>\n",
       "      <th>2</th>\n",
       "      <td>1/12/2022</td>\n",
       "      <td>14,298.95000</td>\n",
       "    </tr>\n",
       "    <tr>\n",
       "      <th>3</th>\n",
       "      <td>1/13/2022</td>\n",
       "      <td>14,309.00000</td>\n",
       "    </tr>\n",
       "    <tr>\n",
       "      <th>4</th>\n",
       "      <td>1/14/2022</td>\n",
       "      <td>14,314.55000</td>\n",
       "    </tr>\n",
       "  </tbody>\n",
       "</table>\n",
       "</div>"
      ],
      "text/plain": [
       "     tanggal  harga_harian\n",
       "0  1/10/2022  14,290.15000\n",
       "1  1/11/2022  14,284.46501\n",
       "2  1/12/2022  14,298.95000\n",
       "3  1/13/2022  14,309.00000\n",
       "4  1/14/2022  14,314.55000"
      ]
     },
     "execution_count": 55,
     "metadata": {},
     "output_type": "execute_result"
    }
   ],
   "source": [
    "import pandas as pd\n",
    "\n",
    "df = pd.DataFrame(temp, columns = ('tanggal','harga_harian'))\n",
    "df.head()"
   ]
  },
  {
   "cell_type": "markdown",
   "metadata": {},
   "source": [
    "Mengecek tipe data"
   ]
  },
  {
   "cell_type": "code",
   "execution_count": 56,
   "metadata": {
    "ExecuteTime": {
     "end_time": "2020-01-13T05:12:59.165559Z",
     "start_time": "2020-01-13T05:12:58.910012Z"
    }
   },
   "outputs": [
    {
     "data": {
      "text/plain": [
       "tanggal         object\n",
       "harga_harian    object\n",
       "dtype: object"
      ]
     },
     "execution_count": 56,
     "metadata": {},
     "output_type": "execute_result"
    }
   ],
   "source": [
    "df.dtypes"
   ]
  },
  {
   "cell_type": "markdown",
   "metadata": {},
   "source": [
    "Mengubah tipe data menjadi lebih sesuai:\n",
    "- tanggal = datetime65\n",
    "- harga_harian = float"
   ]
  },
  {
   "cell_type": "code",
   "execution_count": 57,
   "metadata": {},
   "outputs": [
    {
     "data": {
      "text/plain": [
       "tanggal         datetime64[ns]\n",
       "harga_harian           float64\n",
       "dtype: object"
      ]
     },
     "execution_count": 57,
     "metadata": {},
     "output_type": "execute_result"
    }
   ],
   "source": [
    "df['tanggal'] = df['tanggal'].astype('datetime64')\n",
    "df['harga_harian'] = df['harga_harian'].str.replace(\",\",\"\")\n",
    "df['harga_harian'] = df['harga_harian'].astype('float64')\n",
    "df.dtypes"
   ]
  },
  {
   "cell_type": "code",
   "execution_count": 58,
   "metadata": {},
   "outputs": [
    {
     "data": {
      "text/html": [
       "<div>\n",
       "<style scoped>\n",
       "    .dataframe tbody tr th:only-of-type {\n",
       "        vertical-align: middle;\n",
       "    }\n",
       "\n",
       "    .dataframe tbody tr th {\n",
       "        vertical-align: top;\n",
       "    }\n",
       "\n",
       "    .dataframe thead th {\n",
       "        text-align: right;\n",
       "    }\n",
       "</style>\n",
       "<table border=\"1\" class=\"dataframe\">\n",
       "  <thead>\n",
       "    <tr style=\"text-align: right;\">\n",
       "      <th></th>\n",
       "      <th>tanggal</th>\n",
       "      <th>harga_harian</th>\n",
       "    </tr>\n",
       "  </thead>\n",
       "  <tbody>\n",
       "    <tr>\n",
       "      <th>0</th>\n",
       "      <td>2022-01-10</td>\n",
       "      <td>14290.15000</td>\n",
       "    </tr>\n",
       "    <tr>\n",
       "      <th>1</th>\n",
       "      <td>2022-01-11</td>\n",
       "      <td>14284.46501</td>\n",
       "    </tr>\n",
       "    <tr>\n",
       "      <th>2</th>\n",
       "      <td>2022-01-12</td>\n",
       "      <td>14298.95000</td>\n",
       "    </tr>\n",
       "    <tr>\n",
       "      <th>3</th>\n",
       "      <td>2022-01-13</td>\n",
       "      <td>14309.00000</td>\n",
       "    </tr>\n",
       "    <tr>\n",
       "      <th>4</th>\n",
       "      <td>2022-01-14</td>\n",
       "      <td>14314.55000</td>\n",
       "    </tr>\n",
       "  </tbody>\n",
       "</table>\n",
       "</div>"
      ],
      "text/plain": [
       "     tanggal  harga_harian\n",
       "0 2022-01-10   14290.15000\n",
       "1 2022-01-11   14284.46501\n",
       "2 2022-01-12   14298.95000\n",
       "3 2022-01-13   14309.00000\n",
       "4 2022-01-14   14314.55000"
      ]
     },
     "execution_count": 58,
     "metadata": {},
     "output_type": "execute_result"
    }
   ],
   "source": [
    "# Menampilkan 5 data pertama\n",
    "df.head()"
   ]
  },
  {
   "cell_type": "code",
   "execution_count": 59,
   "metadata": {},
   "outputs": [],
   "source": [
    "# Menjadikan tanggal sebagi index data\n",
    "df = df.set_index('tanggal')"
   ]
  },
  {
   "cell_type": "markdown",
   "metadata": {},
   "source": [
    "### 5. *Data visualisation*"
   ]
  },
  {
   "cell_type": "code",
   "execution_count": 60,
   "metadata": {},
   "outputs": [
    {
     "data": {
      "text/plain": [
       "<AxesSubplot:xlabel='tanggal'>"
      ]
     },
     "execution_count": 60,
     "metadata": {},
     "output_type": "execute_result"
    },
    {
     "data": {
      "image/png": "[encoded data removed]",
      "text/plain": [
       "<Figure size 432x288 with 1 Axes>"
      ]
     },
     "metadata": {
      "needs_background": "light"
     },
     "output_type": "display_data"
    }
   ],
   "source": [
    "# Membuat plot yang sesuai untuk data yaitu plot garis sehingga dapat langsung hanya menggunalan df.plot()\n",
    "df.plot()"
   ]
  },
  {
   "cell_type": "markdown",
   "metadata": {},
   "source": [
    "Dari plot di atas, dapat terlihat bahwa perubahan harga kurs harian US Dollar ke rupiah pada tahun 2022 ini cukup stabil di antara 14300 hingga 14400 rupiah dari awal tahun hingga pertengahan April. Namun, harganya mulai naik sejak pertengahan April walaupun sempat jatuh kembali sejak pertengahan Mei ke awal Juni. Dari awal Juni tersebut, harganya masih terus naik secara drastis hingga awal bulan Juli ini dan memuncak di awal Juli ini dengan sudah menyentuh angka 15000 rupiah."
   ]
  },
  {
   "cell_type": "markdown",
   "metadata": {},
   "source": [
    "### 6. Implementing your webscrapping to the flask dashboard\n",
    "\n",
    "- Copy paste all of your web scrapping process to the desired position on the `app.py`\n",
    "- Changing the title of the dasboard at `index.html`"
   ]
  }
 ],
 "metadata": {
  "kernelspec": {
   "display_name": "web_scrap",
   "language": "python",
   "name": "web_scrap"
  },
  "language_info": {
   "codemirror_mode": {
    "name": "ipython",
    "version": 3
   },
   "file_extension": ".py",
   "mimetype": "text/x-python",
   "name": "python",
   "nbconvert_exporter": "python",
   "pygments_lexer": "ipython3",
   "version": "3.9.12"
  }
 },
 "nbformat": 4,
 "nbformat_minor": 2
}
